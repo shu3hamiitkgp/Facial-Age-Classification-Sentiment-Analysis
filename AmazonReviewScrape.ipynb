{
  "nbformat": 4,
  "nbformat_minor": 0,
  "metadata": {
    "colab": {
      "provenance": []
    },
    "kernelspec": {
      "name": "python3",
      "display_name": "Python 3"
    },
    "language_info": {
      "name": "python"
    }
  },
  "cells": [
    {
      "cell_type": "markdown",
      "source": [
        "Preparing datasets for the reviews of the products."
      ],
      "metadata": {
        "id": "VNGAzB4sPpzt"
      }
    },
    {
      "cell_type": "code",
      "execution_count": 1348,
      "metadata": {
        "colab": {
          "base_uri": "https://localhost:8080/"
        },
        "id": "7Per4XqjKqJz",
        "outputId": "e72590e1-82d4-4e55-b848-820aefaea800"
      },
      "outputs": [
        {
          "output_type": "stream",
          "name": "stdout",
          "text": [
            "Looking in indexes: https://pypi.org/simple, https://us-python.pkg.dev/colab-wheels/public/simple/\n",
            "Requirement already satisfied: bs4 in /usr/local/lib/python3.8/dist-packages (0.0.1)\n",
            "Requirement already satisfied: beautifulsoup4 in /usr/local/lib/python3.8/dist-packages (from bs4) (4.6.3)\n",
            "Looking in indexes: https://pypi.org/simple, https://us-python.pkg.dev/colab-wheels/public/simple/\n",
            "Requirement already satisfied: requests in /usr/local/lib/python3.8/dist-packages (2.23.0)\n",
            "Requirement already satisfied: chardet<4,>=3.0.2 in /usr/local/lib/python3.8/dist-packages (from requests) (3.0.4)\n",
            "Requirement already satisfied: urllib3!=1.25.0,!=1.25.1,<1.26,>=1.21.1 in /usr/local/lib/python3.8/dist-packages (from requests) (1.25.11)\n",
            "Requirement already satisfied: idna<3,>=2.5 in /usr/local/lib/python3.8/dist-packages (from requests) (2.10)\n",
            "Requirement already satisfied: certifi>=2017.4.17 in /usr/local/lib/python3.8/dist-packages (from requests) (2022.9.24)\n",
            "Looking in indexes: https://pypi.org/simple, https://us-python.pkg.dev/colab-wheels/public/simple/\n",
            "Requirement already satisfied: requests_html in /usr/local/lib/python3.8/dist-packages (0.10.0)\n",
            "Requirement already satisfied: w3lib in /usr/local/lib/python3.8/dist-packages (from requests_html) (2.1.1)\n",
            "Requirement already satisfied: fake-useragent in /usr/local/lib/python3.8/dist-packages (from requests_html) (1.1.1)\n",
            "Requirement already satisfied: pyquery in /usr/local/lib/python3.8/dist-packages (from requests_html) (1.4.3)\n",
            "Requirement already satisfied: bs4 in /usr/local/lib/python3.8/dist-packages (from requests_html) (0.0.1)\n",
            "Requirement already satisfied: parse in /usr/local/lib/python3.8/dist-packages (from requests_html) (1.19.0)\n",
            "Requirement already satisfied: pyppeteer>=0.0.14 in /usr/local/lib/python3.8/dist-packages (from requests_html) (1.0.2)\n",
            "Requirement already satisfied: requests in /usr/local/lib/python3.8/dist-packages (from requests_html) (2.23.0)\n",
            "Requirement already satisfied: appdirs<2.0.0,>=1.4.3 in /usr/local/lib/python3.8/dist-packages (from pyppeteer>=0.0.14->requests_html) (1.4.4)\n",
            "Requirement already satisfied: pyee<9.0.0,>=8.1.0 in /usr/local/lib/python3.8/dist-packages (from pyppeteer>=0.0.14->requests_html) (8.2.2)\n",
            "Requirement already satisfied: importlib-metadata>=1.4 in /usr/local/lib/python3.8/dist-packages (from pyppeteer>=0.0.14->requests_html) (4.13.0)\n",
            "Requirement already satisfied: urllib3<2.0.0,>=1.25.8 in /usr/local/lib/python3.8/dist-packages (from pyppeteer>=0.0.14->requests_html) (1.25.11)\n",
            "Requirement already satisfied: websockets<11.0,>=10.0 in /usr/local/lib/python3.8/dist-packages (from pyppeteer>=0.0.14->requests_html) (10.4)\n",
            "Requirement already satisfied: certifi>=2021 in /usr/local/lib/python3.8/dist-packages (from pyppeteer>=0.0.14->requests_html) (2022.9.24)\n",
            "Requirement already satisfied: tqdm<5.0.0,>=4.42.1 in /usr/local/lib/python3.8/dist-packages (from pyppeteer>=0.0.14->requests_html) (4.64.1)\n",
            "Requirement already satisfied: zipp>=0.5 in /usr/local/lib/python3.8/dist-packages (from importlib-metadata>=1.4->pyppeteer>=0.0.14->requests_html) (3.11.0)\n",
            "Requirement already satisfied: beautifulsoup4 in /usr/local/lib/python3.8/dist-packages (from bs4->requests_html) (4.6.3)\n",
            "Requirement already satisfied: importlib-resources>=5.0 in /usr/local/lib/python3.8/dist-packages (from fake-useragent->requests_html) (5.10.0)\n",
            "Requirement already satisfied: cssselect>0.7.9 in /usr/local/lib/python3.8/dist-packages (from pyquery->requests_html) (1.2.0)\n",
            "Requirement already satisfied: lxml>=2.1 in /usr/local/lib/python3.8/dist-packages (from pyquery->requests_html) (4.9.1)\n",
            "Requirement already satisfied: idna<3,>=2.5 in /usr/local/lib/python3.8/dist-packages (from requests->requests_html) (2.10)\n",
            "Requirement already satisfied: chardet<4,>=3.0.2 in /usr/local/lib/python3.8/dist-packages (from requests->requests_html) (3.0.4)\n"
          ]
        }
      ],
      "source": [
        "!pip install bs4\n",
        "!pip install requests\n",
        "!pip install requests_html\n",
        "\n"
      ]
    },
    {
      "cell_type": "code",
      "source": [
        "import requests\n",
        "from bs4 import BeautifulSoup\n",
        "import requests_html\n",
        "import json\n",
        "import os\n",
        "import time"
      ],
      "metadata": {
        "id": "Ttf6tRxoSdXE"
      },
      "execution_count": 1349,
      "outputs": []
    },
    {
      "cell_type": "code",
      "source": [
        "results=[]\n"
      ],
      "metadata": {
        "id": "LT_0O5-ZlPla"
      },
      "execution_count": 1350,
      "outputs": []
    },
    {
      "cell_type": "code",
      "source": [
        "from requests_html import HTMLSession\n",
        "base_path='/content/gdrive/MyDrive/AmazonReviewsClassifier'\n",
        "\n",
        "class Reviews:\n",
        "  def __init__(self,base_url)-> None:\n",
        "      self.session= HTMLSession()\n",
        "      self.headers={'User-Agent':'Mozilla/5.0 (Windows NT 10.0; Win64; x64) AppleWebKit/537.36 (KHTML, like Gecko) Chrome/108.0.0.0 Safari/537.36'}\n",
        "      self.base_url= base_url\n",
        "      self.star_map={1:'one_star',2:'two_star',3:\"three_star\",4:'four_star',5:'five_star'}\n",
        "\n",
        "\n",
        "  def star_filter(self,star):\n",
        "       self.star=star\n",
        "      \n",
        "\n",
        "  def pagination(self,page,star):\n",
        "      self.star_filter(star)\n",
        "      url=self.base_url +'&filterByStar='+self.star_map[self.star]+'&pageNumber='+ str(page) \n",
        "      r=self.session.get(url)\n",
        "      if not r.html.find('div[data-hook=review]'):\n",
        "          return False\n",
        "      else:\n",
        "          return r.html.find('div[data-hook=review]')\n",
        "\n",
        "  def parse(self,reviews):\n",
        "        total=[]\n",
        "        # <i data-hook=\"review-star-rating\" class=\"a-icon a-icon-star a-star-5 review-rating\"><span class=\"a-icon-alt\">5.0 out of 5 stars</span></i>\n",
        "        # <a data-hook=\"review-title\" class=\"a-size-base a-link-normal review-title a-color-base review-title-content a-text-bold\" href=\"/gp/customer-reviews/R325XJM7GGFMZI/ref=cm_cr_arp_d_rvw_ttl?ie=UTF8&amp;ASIN=B07Q6153FQ\">\n",
        "        # <span>Value for money</span>\n",
        "        # </a>\n",
        "        # <span data-hook=\"review-body\" class=\"a-size-base review-text review-text-content\">\n",
        "        # <span>It was nice and value for money</span>\n",
        "        # </span>\n",
        "        if reviews:\n",
        "          for review in reviews:\n",
        "              title=review.find('a[data-hook=review-title]',first=True).text\n",
        "              rating=review.find('i[data-hook=review-star-rating]',first=True).text,\n",
        "              body=review.find('span[data-hook=review-body]',first=True).text.replace('\\n',' ').strip()\n",
        "              \n",
        "              data={             \n",
        "                      'rating':rating,\n",
        "                      'title':title,\n",
        "                      'body':body\n",
        "\n",
        "                }\n",
        "              total.append(data)\n",
        "        print(len(total))\n",
        "        return total\n",
        "        \n",
        "  \n",
        "\n",
        "product='B07Q6153FQ'\n",
        "base_url='https://www.amazon.in/product-reviews/'+product+'/ref=cm_cr_arp_d_viewopt_sr?ie=UTF8&reviewerType=all_reviews'\n",
        "# base_url='https://www.amazon.in/Apple-AirPods-with-Charging-Case/product-reviews/B07Q6153FQ/ref=cm_cr_arp_d_viewopt_sr?ie=UTF8&reviewerType=all_reviews'\n",
        "review_obj=Reviews(base_url)\n",
        "# star=5\n",
        "# for page in range(2,100):\n",
        "#   all_reviews=review_obj.pagination(page,star)\n",
        "#   if all_reviews:\n",
        "#      results.append(review_obj.parse(all_reviews))\n",
        "#   else:\n",
        "#     print(\"done till page\",page,\"no more pages\")\n",
        "#     break\n",
        "#   time.sleep(0.2)\n",
        "\n",
        "# path=os.path.join(base_path,str(star)+\"reviews.json\")\n",
        "# with open(path,'a') as f:\n",
        "#        json.dump(results,f)\n",
        "\n",
        "  \n"
      ],
      "metadata": {
        "id": "P055VcVOWaLa"
      },
      "execution_count": 1353,
      "outputs": []
    },
    {
      "cell_type": "code",
      "source": [
        "star=2\n",
        "for page in range(1,2):\n",
        "  all_reviews=review_obj.pagination(page,star)\n",
        "  if all_reviews:\n",
        "     results.append(review_obj.parse(all_reviews))\n",
        "  else:\n",
        "    print(\"done till page\",page,\"no more pages\")\n",
        "    break\n",
        "  time.sleep(0.2)\n",
        "\n",
        "print(len(results))"
      ],
      "metadata": {
        "id": "s9kImAlbk3Cg",
        "colab": {
          "base_uri": "https://localhost:8080/"
        },
        "outputId": "652ae5b9-1bfb-43ad-a607-59559cfd2e7d"
      },
      "execution_count": 1483,
      "outputs": [
        {
          "output_type": "stream",
          "name": "stdout",
          "text": [
            "10\n",
            "102\n"
          ]
        }
      ]
    },
    {
      "cell_type": "code",
      "source": [
        "print(len(results))"
      ],
      "metadata": {
        "colab": {
          "base_uri": "https://localhost:8080/"
        },
        "id": "GmVSiDUan9ja",
        "outputId": "a24ec4ba-4580-4611-c409-1a9ae36096f6"
      },
      "execution_count": 1486,
      "outputs": [
        {
          "output_type": "stream",
          "name": "stdout",
          "text": [
            "0\n"
          ]
        }
      ]
    },
    {
      "cell_type": "code",
      "source": [
        "path=os.path.join(base_path,str(star)+\"reviews.json\")\n",
        "with open(path,'w') as f:\n",
        "       json.dump(results,f)\n",
        "results=[]\n",
        "\n"
      ],
      "metadata": {
        "id": "npXiEsPqlFQt"
      },
      "execution_count": 1485,
      "outputs": []
    }
  ]
}